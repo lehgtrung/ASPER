{
 "cells": [
  {
   "cell_type": "code",
   "execution_count": 1,
   "metadata": {
    "collapsed": true
   },
   "outputs": [],
   "source": [
    "import json\n",
    "import re"
   ]
  },
  {
   "cell_type": "code",
   "execution_count": 2,
   "outputs": [],
   "source": [
    "with open('/home/thoang/workspace/spert/data/datasets/conll04/conll04_train_dev.json', 'r') as f:\n",
    "    data = json.load(f)"
   ],
   "metadata": {
    "collapsed": false,
    "pycharm": {
     "name": "#%%\n"
    }
   }
  },
  {
   "cell_type": "code",
   "execution_count": 3,
   "outputs": [
    {
     "data": {
      "text/plain": "1153"
     },
     "execution_count": 3,
     "metadata": {},
     "output_type": "execute_result"
    }
   ],
   "source": [
    "len(data)"
   ],
   "metadata": {
    "collapsed": false,
    "pycharm": {
     "name": "#%%\n"
    }
   }
  },
  {
   "cell_type": "code",
   "execution_count": 8,
   "outputs": [
    {
     "name": "stdout",
     "output_type": "stream",
     "text": [
      "Works at 2 places\n",
      "78\n",
      "======\n",
      "Works at 2 places\n",
      "78\n",
      "======\n",
      "Works at 2 places\n",
      "78\n",
      "======\n",
      "Works at 2 places\n",
      "78\n",
      "======\n",
      "Works at 2 places\n",
      "301\n",
      "======\n",
      "Works at 2 places\n",
      "301\n",
      "======\n",
      "Works at 2 places\n",
      "429\n",
      "======\n",
      "Works at 2 places\n",
      "429\n",
      "======\n",
      "Works at 2 places\n",
      "853\n",
      "======\n",
      "Works at 2 places\n",
      "853\n",
      "======\n",
      "Works at 2 places\n",
      "1077\n",
      "======\n",
      "Works at 2 places\n",
      "1077\n",
      "======\n",
      "Works at 2 places\n",
      "1432\n",
      "======\n",
      "Works at 2 places\n",
      "1432\n",
      "======\n",
      "Works at 2 places\n",
      "1432\n",
      "======\n",
      "Works at 2 places\n",
      "1432\n",
      "======\n",
      "Works at 2 places\n",
      "1574\n",
      "======\n",
      "Works at 2 places\n",
      "1574\n",
      "======\n",
      "Works at 2 places\n",
      "2251\n",
      "======\n",
      "Works at 2 places\n",
      "2251\n",
      "======\n",
      "Works at 2 places\n",
      "2417\n",
      "======\n",
      "Works at 2 places\n",
      "2417\n",
      "======\n",
      "Works at 2 places\n",
      "2584\n",
      "======\n",
      "Works at 2 places\n",
      "2584\n",
      "======\n",
      "Works at 2 places\n",
      "2593\n",
      "======\n",
      "Works at 2 places\n",
      "2593\n",
      "======\n",
      "Works at 2 places\n",
      "2593\n",
      "======\n",
      "Works at 2 places\n",
      "2607\n",
      "======\n",
      "Works at 2 places\n",
      "2607\n",
      "======\n",
      "Works at 2 places\n",
      "2904\n",
      "======\n",
      "Works at 2 places\n",
      "2904\n",
      "======\n",
      "Works at 2 places\n",
      "2995\n",
      "======\n",
      "Works at 2 places\n",
      "2995\n",
      "======\n",
      "Works at 2 places\n",
      "2997\n",
      "======\n",
      "Works at 2 places\n",
      "2997\n",
      "======\n",
      "Works at 2 places\n",
      "2997\n",
      "======\n",
      "Works at 2 places\n",
      "2997\n",
      "======\n",
      "Works at 2 places\n",
      "2998\n",
      "======\n",
      "Works at 2 places\n",
      "2998\n",
      "======\n",
      "Works at 2 places\n",
      "3153\n",
      "======\n",
      "Works at 2 places\n",
      "3153\n",
      "======\n",
      "Works at 2 places\n",
      "3153\n",
      "======\n",
      "Works at 2 places\n",
      "3153\n",
      "======\n",
      "Works at 2 places\n",
      "3153\n",
      "======\n",
      "Works at 2 places\n",
      "3423\n",
      "======\n",
      "Works at 2 places\n",
      "3423\n",
      "======\n",
      "Works at 2 places\n",
      "3482\n",
      "======\n",
      "Works at 2 places\n",
      "3482\n",
      "======\n",
      "Works at 2 places\n",
      "3503\n",
      "======\n",
      "Works at 2 places\n",
      "3503\n",
      "======\n",
      "Works at 2 places\n",
      "4125\n",
      "======\n",
      "Works at 2 places\n",
      "4125\n",
      "======\n",
      "Works at 2 places\n",
      "4152\n",
      "======\n",
      "Works at 2 places\n",
      "4152\n",
      "======\n",
      "Works at 2 places\n",
      "4153\n",
      "======\n",
      "Works at 2 places\n",
      "4153\n",
      "======\n",
      "Works at 2 places\n",
      "4176\n",
      "======\n",
      "Works at 2 places\n",
      "4176\n",
      "======\n",
      "Works at 2 places\n",
      "4232\n",
      "======\n",
      "Works at 2 places\n",
      "4232\n",
      "======\n",
      "Works at 2 places\n",
      "4372\n",
      "======\n",
      "Works at 2 places\n",
      "4372\n",
      "======\n"
     ]
    }
   ],
   "source": [
    "for i, row in enumerate(data):\n",
    "    relations = row['relations']\n",
    "    for j, rel in enumerate(relations):\n",
    "        if rel['type'] == 'Work_For':\n",
    "            for k, other_rel in enumerate(relations):\n",
    "                if j != k:\n",
    "                    if rel['type'] == other_rel['type']:\n",
    "                        if rel['head'] == other_rel['head']:\n",
    "                            print('Works at 2 places')\n",
    "                            print(row['orig_id'])\n",
    "                            print('======')\n",
    "                            break"
   ],
   "metadata": {
    "collapsed": false,
    "pycharm": {
     "name": "#%%\n"
    }
   }
  },
  {
   "cell_type": "code",
   "execution_count": 9,
   "outputs": [
    {
     "name": "stdout",
     "output_type": "stream",
     "text": [
      "2nd U.S. Circuit Court of Appeals\n",
      "6th Fleet\n",
      "5th U.S. Circuit Court of Appeals\n",
      "Coast Guard 's 8th District headquarters\n",
      "state Crime Victim and Witness Advisory Council.\n",
      "6th Fleet\n",
      "CH2M Hill\n",
      "the Republic\n",
      "( Zapatist National Liberation Army\n",
      "the Republic\n",
      "republic of Serbian Krajina\n",
      "communist party\n",
      "communist\n",
      "Kanal-6 Television\n",
      "Kanal-6 Television\n",
      "Region 2 Border Patrol Police\n",
      "BPP Unit 24\n",
      "UT-1 Television Network\n",
      "21st Brigade of Cerro Muriano\n",
      "12th Brigade\n",
      "Jarama 1st Cavalry Brigade\n",
      "the Philippines\n"
     ]
    }
   ],
   "source": [],
   "metadata": {
    "collapsed": false,
    "pycharm": {
     "name": "#%%\n"
    }
   }
  },
  {
   "cell_type": "code",
   "execution_count": 10,
   "outputs": [
    {
     "data": {
      "text/plain": "False"
     },
     "execution_count": 10,
     "metadata": {},
     "output_type": "execute_result"
    }
   ],
   "source": [],
   "metadata": {
    "collapsed": false,
    "pycharm": {
     "name": "#%%\n"
    }
   }
  },
  {
   "cell_type": "code",
   "execution_count": null,
   "outputs": [],
   "source": [],
   "metadata": {
    "collapsed": false,
    "pycharm": {
     "name": "#%%\n"
    }
   }
  }
 ],
 "metadata": {
  "kernelspec": {
   "name": "pycharm-5e67594c",
   "language": "python",
   "display_name": "PyCharm (spert)"
  },
  "language_info": {
   "codemirror_mode": {
    "name": "ipython",
    "version": 2
   },
   "file_extension": ".py",
   "mimetype": "text/x-python",
   "name": "python",
   "nbconvert_exporter": "python",
   "pygments_lexer": "ipython2",
   "version": "2.7.6"
  }
 },
 "nbformat": 4,
 "nbformat_minor": 0
}
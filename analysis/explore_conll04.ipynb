{
 "cells": [
  {
   "cell_type": "code",
   "execution_count": 2,
   "metadata": {
    "collapsed": true
   },
   "outputs": [],
   "source": [
    "import json"
   ]
  },
  {
   "cell_type": "code",
   "execution_count": 3,
   "outputs": [],
   "source": [
    "with open('/home/thoang/workspace/spert/data/datasets/conll04/conll04_train_dev.json', 'r') as f:\n",
    "    data = json.load(f)"
   ],
   "metadata": {
    "collapsed": false,
    "pycharm": {
     "name": "#%%\n"
    }
   }
  },
  {
   "cell_type": "code",
   "execution_count": 3,
   "outputs": [
    {
     "data": {
      "text/plain": "2136"
     },
     "execution_count": 3,
     "metadata": {},
     "output_type": "execute_result"
    }
   ],
   "source": [
    "len(data)"
   ],
   "metadata": {
    "collapsed": false,
    "pycharm": {
     "name": "#%%\n"
    }
   }
  },
  {
   "cell_type": "code",
   "execution_count": 7,
   "outputs": [],
   "source": [
    "# Check type\n",
    "type_dct = {}\n",
    "for i, row in enumerate(data):\n",
    "    relations = row['relations']\n",
    "    entities = row['entities']\n",
    "    for rel in relations:\n",
    "        key = (entities[rel['head']]['type'], entities[rel['tail']]['type'])\n",
    "        val = rel['type']\n",
    "        if key not in type_dct:\n",
    "            type_dct[key] = set()\n",
    "        type_dct[key].add(val)"
   ],
   "metadata": {
    "collapsed": false,
    "pycharm": {
     "name": "#%%\n"
    }
   }
  },
  {
   "cell_type": "code",
   "execution_count": 8,
   "outputs": [
    {
     "data": {
      "text/plain": "{('OtherScientificTerm', 'OtherScientificTerm'): {'Compare',\n  'Conjunction',\n  'Feature-of',\n  'Hyponym-of',\n  'Part-of',\n  'Used-for'},\n ('OtherScientificTerm', 'Material'): {'Compare',\n  'Conjunction',\n  'Feature-of',\n  'Hyponym-of',\n  'Part-of',\n  'Used-for'},\n ('Material', 'Material'): {'Compare',\n  'Conjunction',\n  'Feature-of',\n  'Hyponym-of',\n  'Part-of',\n  'Used-for'},\n ('Method', 'OtherScientificTerm'): {'Compare',\n  'Conjunction',\n  'Evaluate-for',\n  'Feature-of',\n  'Hyponym-of',\n  'Part-of',\n  'Used-for'},\n ('OtherScientificTerm', 'Task'): {'Conjunction',\n  'Feature-of',\n  'Hyponym-of',\n  'Part-of',\n  'Used-for'},\n ('Method', 'Task'): {'Conjunction',\n  'Feature-of',\n  'Hyponym-of',\n  'Part-of',\n  'Used-for'},\n ('Method', 'Method'): {'Compare',\n  'Conjunction',\n  'Evaluate-for',\n  'Feature-of',\n  'Hyponym-of',\n  'Part-of',\n  'Used-for'},\n ('OtherScientificTerm', 'Method'): {'Conjunction',\n  'Evaluate-for',\n  'Feature-of',\n  'Hyponym-of',\n  'Part-of',\n  'Used-for'},\n ('Generic', 'Generic'): {'Compare',\n  'Conjunction',\n  'Evaluate-for',\n  'Feature-of',\n  'Hyponym-of',\n  'Part-of',\n  'Used-for'},\n ('Generic', 'Task'): {'Compare',\n  'Evaluate-for',\n  'Feature-of',\n  'Hyponym-of',\n  'Part-of',\n  'Used-for'},\n ('Task', 'Task'): {'Compare',\n  'Conjunction',\n  'Evaluate-for',\n  'Feature-of',\n  'Hyponym-of',\n  'Part-of',\n  'Used-for'},\n ('Method', 'Material'): {'Used-for'},\n ('Metric', 'Material'): {'Conjunction',\n  'Evaluate-for',\n  'Feature-of',\n  'Used-for'},\n ('Material', 'Generic'): {'Conjunction',\n  'Evaluate-for',\n  'Feature-of',\n  'Hyponym-of',\n  'Part-of',\n  'Used-for'},\n ('Generic', 'Method'): {'Compare',\n  'Conjunction',\n  'Evaluate-for',\n  'Hyponym-of',\n  'Part-of',\n  'Used-for'},\n ('Metric', 'Generic'): {'Compare',\n  'Conjunction',\n  'Evaluate-for',\n  'Feature-of',\n  'Hyponym-of',\n  'Part-of',\n  'Used-for'},\n ('Metric', 'Metric'): {'Compare',\n  'Conjunction',\n  'Evaluate-for',\n  'Feature-of',\n  'Hyponym-of'},\n ('Generic', 'OtherScientificTerm'): {'Compare',\n  'Conjunction',\n  'Evaluate-for',\n  'Feature-of',\n  'Hyponym-of',\n  'Part-of',\n  'Used-for'},\n ('OtherScientificTerm', 'Metric'): {'Conjunction',\n  'Feature-of',\n  'Part-of',\n  'Used-for'},\n ('Method', 'Generic'): {'Compare',\n  'Conjunction',\n  'Evaluate-for',\n  'Feature-of',\n  'Hyponym-of',\n  'Part-of',\n  'Used-for'},\n ('OtherScientificTerm', 'Generic'): {'Compare',\n  'Conjunction',\n  'Evaluate-for',\n  'Feature-of',\n  'Hyponym-of',\n  'Part-of',\n  'Used-for'},\n ('Metric', 'Method'): {'Conjunction',\n  'Evaluate-for',\n  'Feature-of',\n  'Hyponym-of',\n  'Used-for'},\n ('Material', 'OtherScientificTerm'): {'Compare',\n  'Conjunction',\n  'Feature-of',\n  'Hyponym-of',\n  'Used-for'},\n ('Material', 'Method'): {'Conjunction',\n  'Evaluate-for',\n  'Feature-of',\n  'Used-for'},\n ('Task', 'Generic'): {'Evaluate-for',\n  'Feature-of',\n  'Hyponym-of',\n  'Part-of',\n  'Used-for'},\n ('Metric', 'OtherScientificTerm'): {'Compare',\n  'Conjunction',\n  'Evaluate-for',\n  'Feature-of',\n  'Hyponym-of',\n  'Used-for'},\n ('Task', 'OtherScientificTerm'): {'Conjunction',\n  'Evaluate-for',\n  'Feature-of',\n  'Used-for'},\n ('Material', 'Task'): {'Compare',\n  'Evaluate-for',\n  'Feature-of',\n  'Hyponym-of',\n  'Part-of',\n  'Used-for'},\n ('Task', 'Material'): {'Feature-of', 'Used-for'},\n ('Generic', 'Material'): {'Compare', 'Conjunction', 'Part-of', 'Used-for'},\n ('Metric', 'Task'): {'Evaluate-for', 'Feature-of', 'Used-for'},\n ('Task', 'Metric'): {'Evaluate-for', 'Used-for'},\n ('Task', 'Method'): {'Conjunction',\n  'Evaluate-for',\n  'Feature-of',\n  'Part-of',\n  'Used-for'},\n ('Generic', 'Metric'): {'Compare', 'Used-for'},\n ('Method', 'Metric'): {'Evaluate-for', 'Used-for'},\n ('Material', 'Metric'): {'Evaluate-for', 'Used-for'}}"
     },
     "execution_count": 8,
     "metadata": {},
     "output_type": "execute_result"
    }
   ],
   "source": [
    "type_dct"
   ],
   "metadata": {
    "collapsed": false,
    "pycharm": {
     "name": "#%%\n"
    }
   }
  },
  {
   "cell_type": "code",
   "execution_count": null,
   "outputs": [],
   "source": [],
   "metadata": {
    "collapsed": false,
    "pycharm": {
     "name": "#%%\n"
    }
   }
  }
 ],
 "metadata": {
  "kernelspec": {
   "name": "pycharm-5e67594c",
   "language": "python",
   "display_name": "PyCharm (spert)"
  },
  "language_info": {
   "codemirror_mode": {
    "name": "ipython",
    "version": 2
   },
   "file_extension": ".py",
   "mimetype": "text/x-python",
   "name": "python",
   "nbconvert_exporter": "python",
   "pygments_lexer": "ipython2",
   "version": "2.7.6"
  }
 },
 "nbformat": 4,
 "nbformat_minor": 0
}
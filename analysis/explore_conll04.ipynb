{
 "cells": [
  {
   "cell_type": "code",
   "execution_count": 2,
   "metadata": {
    "collapsed": true
   },
   "outputs": [],
   "source": [
    "import json\n",
    "import re"
   ]
  },
  {
   "cell_type": "code",
   "execution_count": 3,
   "outputs": [],
   "source": [
    "with open('/home/thoang/workspace/spert/data/datasets/conll04/conll04_train_dev.json', 'r') as f:\n",
    "    data = json.load(f)"
   ],
   "metadata": {
    "collapsed": false,
    "pycharm": {
     "name": "#%%\n"
    }
   }
  },
  {
   "cell_type": "code",
   "execution_count": 4,
   "outputs": [
    {
     "data": {
      "text/plain": "1153"
     },
     "execution_count": 4,
     "metadata": {},
     "output_type": "execute_result"
    }
   ],
   "source": [
    "len(data)"
   ],
   "metadata": {
    "collapsed": false,
    "pycharm": {
     "name": "#%%\n"
    }
   }
  },
  {
   "cell_type": "code",
   "execution_count": 5,
   "outputs": [],
   "source": [],
   "metadata": {
    "collapsed": false,
    "pycharm": {
     "name": "#%%\n"
    }
   }
  },
  {
   "cell_type": "code",
   "execution_count": 9,
   "outputs": [
    {
     "name": "stdout",
     "output_type": "stream",
     "text": [
      "2nd U.S. Circuit Court of Appeals\n",
      "6th Fleet\n",
      "5th U.S. Circuit Court of Appeals\n",
      "Coast Guard 's 8th District headquarters\n",
      "state Crime Victim and Witness Advisory Council.\n",
      "6th Fleet\n",
      "CH2M Hill\n",
      "the Republic\n",
      "( Zapatist National Liberation Army\n",
      "the Republic\n",
      "republic of Serbian Krajina\n",
      "communist party\n",
      "communist\n",
      "Kanal-6 Television\n",
      "Kanal-6 Television\n",
      "Region 2 Border Patrol Police\n",
      "BPP Unit 24\n",
      "UT-1 Television Network\n",
      "21st Brigade of Cerro Muriano\n",
      "12th Brigade\n",
      "Jarama 1st Cavalry Brigade\n",
      "the Philippines\n"
     ]
    }
   ],
   "source": [
    "for row in data:\n",
    "    tokens = row['tokens']\n",
    "    for ent in row['entities']:\n",
    "        name = ' '.join(tokens[ent['start']: ent['end']])\n",
    "        if not is_proper_name(name) and ent['type'] != 'Other':\n",
    "            print(name)"
   ],
   "metadata": {
    "collapsed": false,
    "pycharm": {
     "name": "#%%\n"
    }
   }
  },
  {
   "cell_type": "code",
   "execution_count": 10,
   "outputs": [
    {
     "data": {
      "text/plain": "False"
     },
     "execution_count": 10,
     "metadata": {},
     "output_type": "execute_result"
    }
   ],
   "source": [
    "is_proper_name('Kanal-6 Television')"
   ],
   "metadata": {
    "collapsed": false,
    "pycharm": {
     "name": "#%%\n"
    }
   }
  },
  {
   "cell_type": "code",
   "execution_count": null,
   "outputs": [],
   "source": [],
   "metadata": {
    "collapsed": false,
    "pycharm": {
     "name": "#%%\n"
    }
   }
  }
 ],
 "metadata": {
  "kernelspec": {
   "name": "pycharm-5e67594c",
   "language": "python",
   "display_name": "PyCharm (spert)"
  },
  "language_info": {
   "codemirror_mode": {
    "name": "ipython",
    "version": 2
   },
   "file_extension": ".py",
   "mimetype": "text/x-python",
   "name": "python",
   "nbconvert_exporter": "python",
   "pygments_lexer": "ipython2",
   "version": "2.7.6"
  }
 },
 "nbformat": 4,
 "nbformat_minor": 0
}